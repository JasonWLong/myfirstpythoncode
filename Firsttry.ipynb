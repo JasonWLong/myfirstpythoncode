{
 "cells": [
  {
   "cell_type": "code",
   "execution_count": 4,
   "id": "4a22c37f",
   "metadata": {},
   "outputs": [
    {
     "name": "stdout",
     "output_type": "stream",
     "text": [
      "piepiepiepiepiepie\n"
     ]
    }
   ],
   "source": [
    "x = \"pie\"\n",
    "y = 6\n",
    "print (x * y)\n"
   ]
  },
  {
   "cell_type": "code",
   "execution_count": null,
   "id": "58b29894",
   "metadata": {},
   "outputs": [],
   "source": []
  }
 ],
 "metadata": {
  "kernelspec": {
   "display_name": "Python 3 (ipykernel)",
   "language": "python",
   "name": "python3"
  },
  "language_info": {
   "codemirror_mode": {
    "name": "ipython",
    "version": 3
   },
   "file_extension": ".py",
   "mimetype": "text/x-python",
   "name": "python",
   "nbconvert_exporter": "python",
   "pygments_lexer": "ipython3",
   "version": "3.9.13"
  }
 },
 "nbformat": 4,
 "nbformat_minor": 5
}
